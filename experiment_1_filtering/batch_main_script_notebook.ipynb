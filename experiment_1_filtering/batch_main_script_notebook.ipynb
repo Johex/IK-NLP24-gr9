{
 "cells": [
  {
   "cell_type": "code",
   "execution_count": 4,
   "metadata": {},
   "outputs": [],
   "source": [
    "# Needed in colab:\n",
    "% pip install transformers[torch] datasets evaluate wandb"
   ]
  },
  {
   "cell_type": "code",
   "execution_count": 1,
   "metadata": {},
   "outputs": [
    {
     "name": "stderr",
     "output_type": "stream",
     "text": [
      "/opt/anaconda3/envs/deeplearning/lib/python3.11/site-packages/tqdm/auto.py:21: TqdmWarning: IProgress not found. Please update jupyter and ipywidgets. See https://ipywidgets.readthedocs.io/en/stable/user_install.html\n",
      "  from .autonotebook import tqdm as notebook_tqdm\n"
     ]
    }
   ],
   "source": [
    "from main_script import main\n",
    "import argparse"
   ]
  },
  {
   "cell_type": "code",
   "execution_count": 2,
   "metadata": {},
   "outputs": [
    {
     "name": "stderr",
     "output_type": "stream",
     "text": [
      "\u001b[34m\u001b[1mwandb\u001b[0m: Currently logged in as: \u001b[33mindooradventurer\u001b[0m. Use \u001b[1m`wandb login --relogin`\u001b[0m to force relogin\n"
     ]
    },
    {
     "data": {
      "text/plain": [
       "True"
      ]
     },
     "execution_count": 2,
     "metadata": {},
     "output_type": "execute_result"
    }
   ],
   "source": [
    "# Optional: -- make sure to remove the --wandb_log flag if you don't use tho..\n",
    "# I can give you my key\n",
    "import wandb\n",
    "wandb.login()"
   ]
  },
  {
   "cell_type": "code",
   "execution_count": 3,
   "metadata": {},
   "outputs": [
    {
     "data": {
      "text/plain": [
       "_StoreAction(option_strings=['--filter_thv'], dest='filter_thv', nargs=None, const=None, default=None, type=<class 'str'>, choices=None, required=False, help='Threshold values corresponding to the colums specified in --filter_cols (comma separate them!). Will filter out everything below those values.', metavar=None)"
      ]
     },
     "execution_count": 3,
     "metadata": {},
     "output_type": "execute_result"
    }
   ],
   "source": [
    "# Define the arguments (copied from main_script.py):\n",
    "parser = argparse.ArgumentParser(\n",
    "    description=    \"A simple script to quickly run different models and \"\n",
    "                    \"different (filtered) versions of the dataset with the \"\n",
    "                    \"exact same hyperparameters, etc.\"\n",
    ")\n",
    "parser.add_argument(\"--experiment\", type=str, required=True,\n",
    "                    help=\"Name of the experiment for saving.\")\n",
    "parser.add_argument(\"--model\", type=str, required=True,\n",
    "                    help=   \"'🤗 transformers' model name \"\n",
    "                            \"(e.g. 'GroNLP/bert-base-dutch-cased')\")\n",
    "parser.add_argument(\"--train_inp_cols\", type=str, required=True,\n",
    "                    default=\"maximedb/sick_nl\",\n",
    "                    help=\"Columns for train input (comma separate them!)\")\n",
    "parser.add_argument(\"--test_inp_cols\", type=str, required=True,\n",
    "                    default=\"maximedb/sick_nl\",\n",
    "                    help=\"Columns for test input (comma separate them!)\")\n",
    "parser.add_argument(\"--wandb_log\", action=\"store_true\",\n",
    "                    help=\"Log to wandb. Project name is experiment name.\")\n",
    "\n",
    "# Filtering arguments:\n",
    "parser.add_argument(\"--filter_cols\", type=str,\n",
    "                    help=\"The columns in the training dataset to apply a \"\n",
    "                    \"threshold filter to (comma separate them!). \"\n",
    "                    \"IMPORTANT! --filter_thv must contain equally many \"\n",
    "                    \"comma separated threshold values!\")\n",
    "parser.add_argument(\"--filter_thv\", type=str,\n",
    "                    help=\"Threshold values corresponding to the colums \"\n",
    "                    \"specified in --filter_cols (comma separate them!). \"\n",
    "                    \"Will filter out everything below those values.\")"
   ]
  },
  {
   "cell_type": "code",
   "execution_count": 4,
   "metadata": {},
   "outputs": [],
   "source": [
    "# Arguments for different runs:\n",
    "# TODO: change these to the ones you need to run!\n",
    "run_args = [\n",
    "    # 100% of the dataset:\n",
    "    \"--experiment ik-nlp-mt-quality-filter --model google-bert/bert-base-multilingual-cased --train_inp_cols premise_nl,hypothesis_nl --test_inp_cols sentence_A,sentence_B --wandb_log\",\n",
    "    \"--experiment ik-nlp-mt-quality-filter --model google-bert/bert-base-multilingual-cased --train_inp_cols premise_en,hypothesis_en --test_inp_cols sentence_A_original,sentence_B_original --wandb_log\",\n",
    "\n",
    "    # 50% da:\n",
    "    \"--experiment ik-nlp-mt-quality-filter --model google-bert/bert-base-multilingual-cased --train_inp_cols premise_nl,hypothesis_nl --test_inp_cols sentence_A,sentence_B --wandb_log --filter_cols da_premise,da_hypothesis --filter_thv 0.2624,0.2624\",\n",
    "    \"--experiment ik-nlp-mt-quality-filter --model google-bert/bert-base-multilingual-cased --train_inp_cols premise_en,hypothesis_en --test_inp_cols sentence_A_original,sentence_B_original --wandb_log --filter_cols da_premise,da_hypothesis --filter_thv 0.2624,0.2624\",\n",
    "\n",
    "    # 25% da:\n",
    "    \"--experiment ik-nlp-mt-quality-filter --model google-bert/bert-base-multilingual-cased --train_inp_cols premise_nl,hypothesis_nl --test_inp_cols sentence_A,sentence_B --wandb_log --filter_cols da_premise,da_hypothesis --filter_thv 0.4861,0.4861\",\n",
    "    \"--experiment ik-nlp-mt-quality-filter --model google-bert/bert-base-multilingual-cased --train_inp_cols premise_en,hypothesis_en --test_inp_cols sentence_A_original,sentence_B_original --wandb_log --filter_cols da_premise,da_hypothesis --filter_thv 0.4861,0.4861\",\n",
    "\n",
    "    # # 10% da:\n",
    "    # \"--experiment ik-nlp-mt-quality-filter --model google-bert/bert-base-multilingual-cased --train_inp_cols premise_nl,hypothesis_nl --test_inp_cols sentence_A,sentence_B --wandb_log --filter_cols da_premise,da_hypothesis --filter_thv 0.6651,0.6651\",\n",
    "    # \"--experiment ik-nlp-mt-quality-filter --model google-bert/bert-base-multilingual-cased --train_inp_cols premise_en,hypothesis_en --test_inp_cols sentence_A_original,sentence_B_original --wandb_log --filter_cols da_premise,da_hypothesis --filter_thv 0.6651,0.6651\",\n",
    "\n",
    "    # 50% mqm:\n",
    "    \"--experiment ik-nlp-mt-quality-filter --model google-bert/bert-base-multilingual-cased --train_inp_cols premise_nl,hypothesis_nl --test_inp_cols sentence_A,sentence_B --wandb_log --filter_cols mqm_premise,mqm_hypothesis --filter_thv 0.107,0.107\",\n",
    "    \"--experiment ik-nlp-mt-quality-filter --model google-bert/bert-base-multilingual-cased --train_inp_cols premise_en,hypothesis_en --test_inp_cols sentence_A_original,sentence_B_original --wandb_log --filter_cols mqm_premise,mqm_hypothesis --filter_thv 0.107,0.107\",\n",
    "    \n",
    "    # 25% mqm:\n",
    "    \"--experiment ik-nlp-mt-quality-filter --model google-bert/bert-base-multilingual-cased --train_inp_cols premise_nl,hypothesis_nl --test_inp_cols sentence_A,sentence_B --wandb_log --filter_cols mqm_premise,mqm_hypothesis --filter_thv 0.1183,0.1183\",\n",
    "    \"--experiment ik-nlp-mt-quality-filter --model google-bert/bert-base-multilingual-cased --train_inp_cols premise_en,hypothesis_en --test_inp_cols sentence_A_original,sentence_B_original --wandb_log --filter_cols mqm_premise,mqm_hypothesis --filter_thv 0.1183,0.1183\",\n",
    "    \n",
    "    # # 10% mqm:\n",
    "    # \"--experiment ik-nlp-mt-quality-filter --model google-bert/bert-base-multilingual-cased --train_inp_cols premise_nl,hypothesis_nl --test_inp_cols sentence_A,sentence_B --wandb_log --filter_cols mqm_premise,mqm_hypothesis --filter_thv 0.127,0.127\",\n",
    "    # \"--experiment ik-nlp-mt-quality-filter --model google-bert/bert-base-multilingual-cased --train_inp_cols premise_en,hypothesis_en --test_inp_cols sentence_A_original,sentence_B_original --wandb_log --filter_cols mqm_premise,mqm_hypothesis --filter_thv 0.127,0.127\",\n",
    "    \n",
    "    # 50% by pruning both da and mqm:\n",
    "    \"--experiment ik-nlp-mt-quality-filter --model google-bert/bert-base-multilingual-cased --train_inp_cols premise_nl,hypothesis_nl --test_inp_cols sentence_A,sentence_B --wandb_log --filter_cols da_premise,da_hypothesis,mqm_premise,mqm_hypothesis --filter_thv 0.201648,0.201648,0.0986,0.0986\",\n",
    "    \"--experiment ik-nlp-mt-quality-filter --model google-bert/bert-base-multilingual-cased --train_inp_cols premise_en,hypothesis_en --test_inp_cols sentence_A_original,sentence_B_original --wandb_log --filter_cols da_premise,da_hypothesis,mqm_premise,mqm_hypothesis --filter_thv 0.201648,0.201648,0.0986,0.0986\",\n",
    "\n",
    "    # 25% by pruning both da and mqm:\n",
    "    \"--experiment ik-nlp-mt-quality-filter --model google-bert/bert-base-multilingual-cased --train_inp_cols premise_nl,hypothesis_nl --test_inp_cols sentence_A,sentence_B --wandb_log --filter_cols da_premise,da_hypothesis,mqm_premise,mqm_hypothesis --filter_thv 0.3926,0.3926,0.111188,0.111188\",\n",
    "    \"--experiment ik-nlp-mt-quality-filter --model google-bert/bert-base-multilingual-cased --train_inp_cols premise_en,hypothesis_en --test_inp_cols sentence_A_original,sentence_B_original --wandb_log --filter_cols da_premise,da_hypothesis,mqm_premise,mqm_hypothesis --filter_thv 0.3926,0.3926,0.111188,0.111188\"\n",
    "\n",
    "    # # 10% by pruning both da and mqm:\n",
    "    # \"--experiment ik-nlp-mt-quality-filter --model google-bert/bert-base-multilingual-cased --train_inp_cols premise_nl,hypothesis_nl --test_inp_cols sentence_A,sentence_B --wandb_log --filter_cols da_premise,da_hypothesis,mqm_premise,mqm_hypothesis --filter_thv 0.555,0.555,0.1219,0.1219\"\n",
    "    # \"--experiment ik-nlp-mt-quality-filter --model google-bert/bert-base-multilingual-cased --train_inp_cols premise_en,hypothesis_en --test_inp_cols sentence_A_original,sentence_B_original --wandb_log --filter_cols da_premise,da_hypothesis,mqm_premise,mqm_hypothesis --filter_thv 0.555,0.555,0.1219,0.1219\"\n",
    "]\n",
    "\n",
    "# run_args = [\n",
    "#     # 100% of the dataset:\n",
    "#     # \"--experiment ik-nlp-mt-quality-filter --model GroNLP/bert-base-dutch-cased --train_inp_cols premise_nl,hypothesis_nl --test_inp_cols sentence_A,sentence_B --wandb_log\"\n",
    "#     # \"--experiment ik-nlp-mt-quality-filter --model google-bert/bert-base-cased --train_inp_cols premise_en,hypothesis_en --test_inp_cols sentence_A_original,sentence_B_original --wandb_log\",\n",
    "\n",
    "#     # 50% da:\n",
    "#     # \"--experiment ik-nlp-mt-quality-filter --model GroNLP/bert-base-dutch-cased --train_inp_cols premise_nl,hypothesis_nl --test_inp_cols sentence_A,sentence_B --wandb_log --filter_cols da_premise,da_hypothesis --filter_thv 0.2624,0.2624\",\n",
    "#     # \"--experiment ik-nlp-mt-quality-filter --model google-bert/bert-base-cased --train_inp_cols premise_en,hypothesis_en --test_inp_cols sentence_A_original,sentence_B_original --wandb_log --filter_cols da_premise,da_hypothesis --filter_thv 0.2624,0.2624\",\n",
    "\n",
    "#     # 25% da:\n",
    "#     # \"--experiment ik-nlp-mt-quality-filter --model GroNLP/bert-base-dutch-cased --train_inp_cols premise_nl,hypothesis_nl --test_inp_cols sentence_A,sentence_B --wandb_log --filter_cols da_premise,da_hypothesis --filter_thv 0.4861,0.4861\",\n",
    "#     # \"--experiment ik-nlp-mt-quality-filter --model google-bert/bert-base-cased --train_inp_cols premise_en,hypothesis_en --test_inp_cols sentence_A_original,sentence_B_original --wandb_log --filter_cols da_premise,da_hypothesis --filter_thv 0.4861,0.4861\",\n",
    "\n",
    "#     # 10% da:\n",
    "#     # \"--experiment ik-nlp-mt-quality-filter --model GroNLP/bert-base-dutch-cased --train_inp_cols premise_nl,hypothesis_nl --test_inp_cols sentence_A,sentence_B --wandb_log --filter_cols da_premise,da_hypothesis --filter_thv 0.6651,0.6651\",\n",
    "#     # \"--experiment ik-nlp-mt-quality-filter --model google-bert/bert-base-cased --train_inp_cols premise_en,hypothesis_en --test_inp_cols sentence_A_original,sentence_B_original --wandb_log --filter_cols da_premise,da_hypothesis --filter_thv 0.6651,0.6651\"\n",
    "\n",
    "#     # 50% by pruning both da and mqm:\n",
    "#     # \"--experiment ik-nlp-mt-quality-filter --model GroNLP/bert-base-dutch-cased --train_inp_cols premise_nl,hypothesis_nl --test_inp_cols sentence_A,sentence_B --wandb_log --filter_cols da_premise,da_hypothesis,mqm_premise,mqm_hypothesis --filter_thv 0.201648,0.201648,0.0986,0.0986\",\n",
    "#     # \"--experiment ik-nlp-mt-quality-filter --model google-bert/bert-base-cased --train_inp_cols premise_en,hypothesis_en --test_inp_cols sentence_A_original,sentence_B_original --wandb_log --filter_cols da_premise,da_hypothesis,mqm_premise,mqm_hypothesis --filter_thv 0.201648,0.201648,0.0986,0.0986\",\n",
    "\n",
    "#     # 25% by pruning both da and mqm:\n",
    "#     # \"--experiment ik-nlp-mt-quality-filter --model GroNLP/bert-base-dutch-cased --train_inp_cols premise_nl,hypothesis_nl --test_inp_cols sentence_A,sentence_B --wandb_log --filter_cols da_premise,da_hypothesis,mqm_premise,mqm_hypothesis --filter_thv 0.3926,0.3926,0.111188,0.111188\",\n",
    "#     # \"--experiment ik-nlp-mt-quality-filter --model google-bert/bert-base-cased --train_inp_cols premise_en,hypothesis_en --test_inp_cols sentence_A_original,sentence_B_original --wandb_log --filter_cols da_premise,da_hypothesis,mqm_premise,mqm_hypothesis --filter_thv 0.3926,0.3926,0.111188,0.111188\"\n",
    "\n",
    "#     # 10% by pruning both da and mqm:\n",
    "#     # \"--experiment ik-nlp-mt-quality-filter --model GroNLP/bert-base-dutch-cased --train_inp_cols premise_nl,hypothesis_nl --test_inp_cols sentence_A,sentence_B --wandb_log --filter_cols da_premise,da_hypothesis,mqm_premise,mqm_hypothesis --filter_thv 0.555,0.555,0.1219,0.1219\"\n",
    "#     # \"--experiment ik-nlp-mt-quality-filter --model google-bert/bert-base-cased --train_inp_cols premise_en,hypothesis_en --test_inp_cols sentence_A_original,sentence_B_original --wandb_log --filter_cols da_premise,da_hypothesis,mqm_premise,mqm_hypothesis --filter_thv 0.555,0.555,0.1219,0.1219\"\n",
    "# ]   \n",
    "\n",
    "# These runs were already done, except the 10% ones\n",
    "# run_args = [\n",
    "#     # 100% of the dataset:\n",
    "#     \"--experiment ik-nlp-mt-quality-filter --model GroNLP/bert-base-dutch-cased --train_inp_cols premise_nl,hypothesis_nl --test_inp_cols sentence_A,sentence_B --wandb_log\",\n",
    "#     \"--experiment ik-nlp-mt-quality-filter --model google-bert/bert-base-cased --train_inp_cols premise_en,hypothesis_en --test_inp_cols sentence_A_original,sentence_B_original --wandb_log\",\n",
    "    \n",
    "#     # 50% mqm:\n",
    "#     \"--experiment ik-nlp-mt-quality-filter --model GroNLP/bert-base-dutch-cased --train_inp_cols premise_nl,hypothesis_nl --test_inp_cols sentence_A,sentence_B --wandb_log --filter_cols mqm_premise,mqm_hypothesis --filter_thv 0.107,0.107\",\n",
    "#     \"--experiment ik-nlp-mt-quality-filter --model google-bert/bert-base-cased --train_inp_cols premise_en,hypothesis_en --test_inp_cols sentence_A_original,sentence_B_original --wandb_log --filter_cols mqm_premise,mqm_hypothesis --filter_thv 0.107,0.107\",\n",
    "    \n",
    "#     # 25% mqm:\n",
    "#     \"--experiment ik-nlp-mt-quality-filter --model GroNLP/bert-base-dutch-cased --train_inp_cols premise_nl,hypothesis_nl --test_inp_cols sentence_A,sentence_B --wandb_log --filter_cols mqm_premise,mqm_hypothesis --filter_thv 0.1183,0.1183\",\n",
    "#     \"--experiment ik-nlp-mt-quality-filter --model google-bert/bert-base-cased --train_inp_cols premise_en,hypothesis_en --test_inp_cols sentence_A_original,sentence_B_original --wandb_log --filter_cols mqm_premise,mqm_hypothesis --filter_thv 0.1183,0.1183\",\n",
    "    \n",
    "#     # 10% mqm:\n",
    "#     \"--experiment ik-nlp-mt-quality-filter --model GroNLP/bert-base-dutch-cased --train_inp_cols premise_nl,hypothesis_nl --test_inp_cols sentence_A,sentence_B --wandb_log --filter_cols mqm_premise,mqm_hypothesis --filter_thv 0.127,0.127\",\n",
    "#     \"--experiment ik-nlp-mt-quality-filter --model google-bert/bert-base-cased --train_inp_cols premise_en,hypothesis_en --test_inp_cols sentence_A_original,sentence_B_original --wandb_log --filter_cols mqm_premise,mqm_hypothesis --filter_thv 0.127,0.127\",\n",
    "# ]"
   ]
  },
  {
   "cell_type": "code",
   "execution_count": null,
   "metadata": {},
   "outputs": [
    {
     "name": "stdout",
     "output_type": "stream",
     "text": [
      "Running experiment with:\n",
      "    model:           google-bert/bert-base-multilingual-cased\n",
      "    train_cols:      premise_nl,hypothesis_nl\n",
      "    test_cols:       sentence_A,sentence_B\n",
      "\n",
      "Getting the training set.\n",
      "Filtering the training dataset.\n",
      "No filters specified. Using full dataset!\n",
      "Tokenizing dataset for training.\n"
     ]
    },
    {
     "data": {
      "text/html": [
       "Tracking run with wandb version 0.16.5"
      ],
      "text/plain": [
       "<IPython.core.display.HTML object>"
      ]
     },
     "metadata": {},
     "output_type": "display_data"
    },
    {
     "data": {
      "text/html": [
       "Run data is saved locally in <code>/Users/merlin/Desktop/AI Course/2A/Natural Language Processing/Final Project/IK-NLP24-gr9/experiment_1_filtering/wandb/run-20240331_155434-7zk3f5n8</code>"
      ],
      "text/plain": [
       "<IPython.core.display.HTML object>"
      ]
     },
     "metadata": {},
     "output_type": "display_data"
    },
    {
     "data": {
      "text/html": [
       "Syncing run <strong><a href='https://wandb.ai/indooradventurer/ik-nlp-mt-quality-filter/runs/7zk3f5n8/workspace' target=\"_blank\">google-bert_bert-base-multilingual-cased_TRC=premise_nl,hypothesis_nl_TEC=sentence_A,sentence_B_</a></strong> to <a href='https://wandb.ai/indooradventurer/ik-nlp-mt-quality-filter' target=\"_blank\">Weights & Biases</a> (<a href='https://wandb.me/run' target=\"_blank\">docs</a>)<br/>"
      ],
      "text/plain": [
       "<IPython.core.display.HTML object>"
      ]
     },
     "metadata": {},
     "output_type": "display_data"
    },
    {
     "data": {
      "text/html": [
       " View project at <a href='https://wandb.ai/indooradventurer/ik-nlp-mt-quality-filter' target=\"_blank\">https://wandb.ai/indooradventurer/ik-nlp-mt-quality-filter</a>"
      ],
      "text/plain": [
       "<IPython.core.display.HTML object>"
      ]
     },
     "metadata": {},
     "output_type": "display_data"
    },
    {
     "data": {
      "text/html": [
       " View run at <a href='https://wandb.ai/indooradventurer/ik-nlp-mt-quality-filter/runs/7zk3f5n8/workspace' target=\"_blank\">https://wandb.ai/indooradventurer/ik-nlp-mt-quality-filter/runs/7zk3f5n8/workspace</a>"
      ],
      "text/plain": [
       "<IPython.core.display.HTML object>"
      ]
     },
     "metadata": {},
     "output_type": "display_data"
    },
    {
     "name": "stdout",
     "output_type": "stream",
     "text": [
      "Training the model! Using 🤗 defaults, and batch_size=32.\n"
     ]
    },
    {
     "name": "stderr",
     "output_type": "stream",
     "text": [
      "Some weights of BertForSequenceClassification were not initialized from the model checkpoint at google-bert/bert-base-multilingual-cased and are newly initialized: ['classifier.bias', 'classifier.weight']\n",
      "You should probably TRAIN this model on a down-stream task to be able to use it for predictions and inference.\n",
      "/opt/anaconda3/envs/deeplearning/lib/python3.11/site-packages/accelerate/accelerator.py:432: FutureWarning: Passing the following arguments to `Accelerator` is deprecated and will be removed in version 1.0 of Accelerate: dict_keys(['dispatch_batches', 'split_batches', 'even_batches', 'use_seedable_sampler']). Please pass an `accelerate.DataLoaderConfiguration` instead: \n",
      "dataloader_config = DataLoaderConfiguration(dispatch_batches=None, split_batches=False, even_batches=True, use_seedable_sampler=True)\n",
      "  warnings.warn(\n"
     ]
    },
    {
     "data": {
      "text/html": [
       "\n",
       "    <div>\n",
       "      \n",
       "      <progress value='3001' max='17000' style='width:300px; height:20px; vertical-align: middle;'></progress>\n",
       "      [ 3001/17000 14:18 < 1:06:47, 3.49 it/s, Epoch 0.09/1]\n",
       "    </div>\n",
       "    <table border=\"1\" class=\"dataframe\">\n",
       "  <thead>\n",
       " <tr style=\"text-align: left;\">\n",
       "      <th>Step</th>\n",
       "      <th>Training Loss</th>\n",
       "      <th>Validation Loss</th>\n",
       "      <th>Accuracy</th>\n",
       "    </tr>\n",
       "  </thead>\n",
       "  <tbody>\n",
       "    <tr>\n",
       "      <td>500</td>\n",
       "      <td>0.907800</td>\n",
       "      <td>0.764028</td>\n",
       "      <td>0.674050</td>\n",
       "    </tr>\n",
       "    <tr>\n",
       "      <td>1000</td>\n",
       "      <td>0.808300</td>\n",
       "      <td>0.725526</td>\n",
       "      <td>0.688376</td>\n",
       "    </tr>\n",
       "    <tr>\n",
       "      <td>1500</td>\n",
       "      <td>0.772500</td>\n",
       "      <td>0.766030</td>\n",
       "      <td>0.685328</td>\n",
       "    </tr>\n",
       "    <tr>\n",
       "      <td>2000</td>\n",
       "      <td>0.743400</td>\n",
       "      <td>0.675592</td>\n",
       "      <td>0.727698</td>\n",
       "    </tr>\n",
       "    <tr>\n",
       "      <td>2500</td>\n",
       "      <td>0.710700</td>\n",
       "      <td>0.650844</td>\n",
       "      <td>0.736944</td>\n",
       "    </tr>\n",
       "  </tbody>\n",
       "</table><p>\n",
       "    <div>\n",
       "      \n",
       "      <progress value='439' max='616' style='width:300px; height:20px; vertical-align: middle;'></progress>\n",
       "      [439/616 00:13 < 00:05, 31.55 it/s]\n",
       "    </div>\n",
       "    "
      ],
      "text/plain": [
       "<IPython.core.display.HTML object>"
      ]
     },
     "metadata": {},
     "output_type": "display_data"
    }
   ],
   "source": [
    "for run in run_args:\n",
    "    args = parser.parse_args(run.split())\n",
    "    main(args)"
   ]
  },
  {
   "cell_type": "code",
   "execution_count": null,
   "metadata": {},
   "outputs": [],
   "source": []
  }
 ],
 "metadata": {
  "kernelspec": {
   "display_name": "Python 3 (ipykernel)",
   "language": "python",
   "name": "python3"
  },
  "language_info": {
   "codemirror_mode": {
    "name": "ipython",
    "version": 3
   },
   "file_extension": ".py",
   "mimetype": "text/x-python",
   "name": "python",
   "nbconvert_exporter": "python",
   "pygments_lexer": "ipython3",
   "version": "3.11.8"
  }
 },
 "nbformat": 4,
 "nbformat_minor": 4
}
