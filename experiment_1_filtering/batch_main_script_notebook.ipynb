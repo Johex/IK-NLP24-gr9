{
 "cells": [
  {
   "cell_type": "code",
   "execution_count": null,
   "metadata": {},
   "outputs": [],
   "source": [
    "# Needed in colab:\n",
    "%pip install transformers[torch] datasets evaluate wandb"
   ]
  },
  {
   "cell_type": "code",
   "execution_count": 1,
   "metadata": {},
   "outputs": [],
   "source": [
    "from main_script import main\n",
    "import argparse"
   ]
  },
  {
   "cell_type": "code",
   "execution_count": null,
   "metadata": {},
   "outputs": [],
   "source": [
    "# Optional: -- make sure to remove the --wandb_log flag if you don't use tho..\n",
    "# I can give you my key\n",
    "import wandb\n",
    "wandb.login()"
   ]
  },
  {
   "cell_type": "code",
   "execution_count": 2,
   "metadata": {},
   "outputs": [
    {
     "data": {
      "text/plain": [
       "_StoreAction(option_strings=['--filter_thv'], dest='filter_thv', nargs=None, const=None, default=None, type=<class 'str'>, choices=None, required=False, help='Threshold values corresponding to the colums specified in --filter_cols (comma separate them!). Will filter out everything below those values.', metavar=None)"
      ]
     },
     "execution_count": 2,
     "metadata": {},
     "output_type": "execute_result"
    }
   ],
   "source": [
    "# Define the arguments (copied from main_script.py):\n",
    "parser = argparse.ArgumentParser(\n",
    "    description=    \"A simple script to quickly run different models and \"\n",
    "                    \"different (filtered) versions of the dataset with the \"\n",
    "                    \"exact same hyperparameters, etc.\"\n",
    ")\n",
    "parser.add_argument(\"--experiment\", type=str, required=True,\n",
    "                    help=\"Name of the experiment for saving.\")\n",
    "parser.add_argument(\"--model\", type=str, required=True,\n",
    "                    help=   \"'🤗 transformers' model name \"\n",
    "                            \"(e.g. 'GroNLP/bert-base-dutch-cased')\")\n",
    "parser.add_argument(\"--train_inp_cols\", type=str, required=True,\n",
    "                    default=\"maximedb/sick_nl\",\n",
    "                    help=\"Columns for train input (comma separate them!)\")\n",
    "parser.add_argument(\"--test_inp_cols\", type=str, required=True,\n",
    "                    default=\"maximedb/sick_nl\",\n",
    "                    help=\"Columns for test input (comma separate them!)\")\n",
    "parser.add_argument(\"--wandb_log\", action=\"store_true\",\n",
    "                    help=\"Log to wandb. Project name is experiment name.\")\n",
    "\n",
    "# Filtering arguments:\n",
    "parser.add_argument(\"--filter_cols\", type=str,\n",
    "                    help=\"The columns in the training dataset to apply a \"\n",
    "                    \"threshold filter to (comma separate them!). \"\n",
    "                    \"IMPORTANT! --filter_thv must contain equally many \"\n",
    "                    \"comma separated threshold values!\")\n",
    "parser.add_argument(\"--filter_thv\", type=str,\n",
    "                    help=\"Threshold values corresponding to the colums \"\n",
    "                    \"specified in --filter_cols (comma separate them!). \"\n",
    "                    \"Will filter out everything below those values.\")"
   ]
  },
  {
   "cell_type": "code",
   "execution_count": 3,
   "metadata": {},
   "outputs": [],
   "source": [
    "# Arguments for different runs:\n",
    "# TODO: change these to the ones you need to run!\n",
    "run_args = [\n",
    "    # 100% of the dataset:\n",
    "    # \"--experiment ik-nlp-mt-quality-filter --model GroNLP/bert-base-dutch-cased --train_inp_cols premise_nl,hypothesis_nl --test_inp_cols sentence_A,sentence_B --wandb_log\"\n",
    "    # \"--experiment ik-nlp-mt-quality-filter --model google-bert/bert-base-cased --train_inp_cols premise_en,hypothesis_en --test_inp_cols sentence_A_original,sentence_B_original --wandb_log\",\n",
    "\n",
    "    # 50% da:\n",
    "    \"--experiment ik-nlp-mt-quality-filter --model GroNLP/bert-base-dutch-cased --train_inp_cols premise_nl,hypothesis_nl --test_inp_cols sentence_A,sentence_B --wandb_log --filter_cols da_premise,da_hypothesis --filter_thv 0.2624,0.2624\",\n",
    "    \"--experiment ik-nlp-mt-quality-filter --model google-bert/bert-base-cased --train_inp_cols premise_en,hypothesis_en --test_inp_cols sentence_A_original,sentence_B_original --wandb_log --filter_cols da_premise,da_hypothesis --filter_thv 0.2624,0.2624\",\n",
    "\n",
    "    # 25% da:\n",
    "    \"--experiment ik-nlp-mt-quality-filter --model GroNLP/bert-base-dutch-cased --train_inp_cols premise_nl,hypothesis_nl --test_inp_cols sentence_A,sentence_B --wandb_log --filter_cols da_premise,da_hypothesis --filter_thv 0.4861,0.4861\",\n",
    "    \"--experiment ik-nlp-mt-quality-filter --model google-bert/bert-base-cased --train_inp_cols premise_en,hypothesis_en --test_inp_cols sentence_A_original,sentence_B_original --wandb_log --filter_cols da_premise,da_hypothesis --filter_thv 0.4861,0.4861\",\n",
    "\n",
    "    # 10% da:\n",
    "    # \"--experiment ik-nlp-mt-quality-filter --model GroNLP/bert-base-dutch-cased --train_inp_cols premise_nl,hypothesis_nl --test_inp_cols sentence_A,sentence_B --wandb_log --filter_cols da_premise,da_hypothesis --filter_thv 0.6651,0.6651\",\n",
    "    # \"--experiment ik-nlp-mt-quality-filter --model google-bert/bert-base-cased --train_inp_cols premise_en,hypothesis_en --test_inp_cols sentence_A_original,sentence_B_original --wandb_log --filter_cols da_premise,da_hypothesis --filter_thv 0.6651,0.6651\"\n",
    "\n",
    "    # 50% by pruning both da and mqm:\n",
    "    \"--experiment ik-nlp-mt-quality-filter --model GroNLP/bert-base-dutch-cased --train_inp_cols premise_nl,hypothesis_nl --test_inp_cols sentence_A,sentence_B --wandb_log --filter_cols da_premise,da_hypothesis,mqm_premise,mqm_hypothesis --filter_thv 0.201648,0.201648,0.0986,0.0986\"\n",
    "    # \"--experiment ik-nlp-mt-quality-filter --model google-bert/bert-base-cased --train_inp_cols premise_en,hypothesis_en --test_inp_cols sentence_A_original,sentence_B_original --wandb_log --filter_cols da_premise,da_hypothesis,mqm_premise,mqm_hypothesis --filter_thv 0.201648,0.201648,0.0986,0.0986\"\n",
    "\n",
    "    # 25% by pruning both da and mqm:\n",
    "    \"--experiment ik-nlp-mt-quality-filter --model GroNLP/bert-base-dutch-cased --train_inp_cols premise_nl,hypothesis_nl --test_inp_cols sentence_A,sentence_B --wandb_log --filter_cols da_premise,da_hypothesis,mqm_premise,mqm_hypothesis --filter_thv 0.3926,0.3926,0.111188,0.111188\"\n",
    "    # \"--experiment ik-nlp-mt-quality-filter --model google-bert/bert-base-cased --train_inp_cols premise_en,hypothesis_en --test_inp_cols sentence_A_original,sentence_B_original --wandb_log --filter_cols da_premise,da_hypothesis,mqm_premise,mqm_hypothesis --filter_thv 0.3926,0.3926,0.111188,0.111188\"\n",
    "\n",
    "    # 10% by pruning both da and mqm:\n",
    "    # \"--experiment ik-nlp-mt-quality-filter --model GroNLP/bert-base-dutch-cased --train_inp_cols premise_nl,hypothesis_nl --test_inp_cols sentence_A,sentence_B --wandb_log --filter_cols da_premise,da_hypothesis,mqm_premise,mqm_hypothesis --filter_thv 0.555,0.555,0.1219,0.1219\"\n",
    "    # \"--experiment ik-nlp-mt-quality-filter --model google-bert/bert-base-cased --train_inp_cols premise_en,hypothesis_en --test_inp_cols sentence_A_original,sentence_B_original --wandb_log --filter_cols da_premise,da_hypothesis,mqm_premise,mqm_hypothesis --filter_thv 0.555,0.555,0.1219,0.1219\"\n",
    "]   \n",
    "\n",
    "# These runs were already done, except the 10% ones\n",
    "# run_args = [\n",
    "#     # 100% of the dataset:\n",
    "#     \"--experiment ik-nlp-mt-quality-filter --model GroNLP/bert-base-dutch-cased --train_inp_cols premise_nl,hypothesis_nl --test_inp_cols sentence_A,sentence_B --wandb_log\",\n",
    "#     \"--experiment ik-nlp-mt-quality-filter --model google-bert/bert-base-cased --train_inp_cols premise_en,hypothesis_en --test_inp_cols sentence_A_original,sentence_B_original --wandb_log\",\n",
    "    \n",
    "#     # 50% mqm:\n",
    "#     \"--experiment ik-nlp-mt-quality-filter --model GroNLP/bert-base-dutch-cased --train_inp_cols premise_nl,hypothesis_nl --test_inp_cols sentence_A,sentence_B --wandb_log --filter_cols mqm_premise,mqm_hypothesis --filter_thv 0.107,0.107\",\n",
    "#     \"--experiment ik-nlp-mt-quality-filter --model google-bert/bert-base-cased --train_inp_cols premise_en,hypothesis_en --test_inp_cols sentence_A_original,sentence_B_original --wandb_log --filter_cols mqm_premise,mqm_hypothesis --filter_thv 0.107,0.107\",\n",
    "    \n",
    "#     # 25% mqm:\n",
    "#     \"--experiment ik-nlp-mt-quality-filter --model GroNLP/bert-base-dutch-cased --train_inp_cols premise_nl,hypothesis_nl --test_inp_cols sentence_A,sentence_B --wandb_log --filter_cols mqm_premise,mqm_hypothesis --filter_thv 0.1183,0.1183\",\n",
    "#     \"--experiment ik-nlp-mt-quality-filter --model google-bert/bert-base-cased --train_inp_cols premise_en,hypothesis_en --test_inp_cols sentence_A_original,sentence_B_original --wandb_log --filter_cols mqm_premise,mqm_hypothesis --filter_thv 0.1183,0.1183\",\n",
    "    \n",
    "#     # 10% mqm:\n",
    "#     \"--experiment ik-nlp-mt-quality-filter --model GroNLP/bert-base-dutch-cased --train_inp_cols premise_nl,hypothesis_nl --test_inp_cols sentence_A,sentence_B --wandb_log --filter_cols mqm_premise,mqm_hypothesis --filter_thv 0.127,0.127\",\n",
    "#     \"--experiment ik-nlp-mt-quality-filter --model google-bert/bert-base-cased --train_inp_cols premise_en,hypothesis_en --test_inp_cols sentence_A_original,sentence_B_original --wandb_log --filter_cols mqm_premise,mqm_hypothesis --filter_thv 0.127,0.127\",\n",
    "# ]"
   ]
  },
  {
   "cell_type": "code",
   "execution_count": null,
   "metadata": {},
   "outputs": [],
   "source": [
    "for run in run_args:\n",
    "    args = parser.parse_args(run.split())\n",
    "    main(args)"
   ]
  }
 ],
 "metadata": {
  "kernelspec": {
   "display_name": "Python 3",
   "language": "python",
   "name": "python3"
  },
  "language_info": {
   "codemirror_mode": {
    "name": "ipython",
    "version": 3
   },
   "file_extension": ".py",
   "mimetype": "text/x-python",
   "name": "python",
   "nbconvert_exporter": "python",
   "pygments_lexer": "ipython3",
   "version": "3.10.9"
  }
 },
 "nbformat": 4,
 "nbformat_minor": 2
}
